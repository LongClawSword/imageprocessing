{
  "nbformat": 4,
  "nbformat_minor": 0,
  "metadata": {
    "kernelspec": {
      "display_name": "Python 3",
      "language": "python",
      "name": "python3"
    },
    "language_info": {
      "codemirror_mode": {
        "name": "ipython",
        "version": 3
      },
      "file_extension": ".py",
      "mimetype": "text/x-python",
      "name": "python",
      "nbconvert_exporter": "python",
      "pygments_lexer": "ipython3",
      "version": "3.8.5"
    },
    "colab": {
      "provenance": [],
      "include_colab_link": true
    }
  },
  "cells": [
    {
      "cell_type": "markdown",
      "metadata": {
        "id": "view-in-github",
        "colab_type": "text"
      },
      "source": [
        "<a href=\"https://colab.research.google.com/github/LongClawSword/imageprocessing/blob/main/A2-220229.ipynb\" target=\"_parent\"><img src=\"https://colab.research.google.com/assets/colab-badge.svg\" alt=\"Open In Colab\"/></a>"
      ]
    },
    {
      "cell_type": "markdown",
      "source": [],
      "metadata": {
        "id": "GdSfKuj2Gkc_"
      }
    },
    {
      "cell_type": "markdown",
      "metadata": {
        "id": "VRBe4VHfErBx"
      },
      "source": [
        "# Assignment 2"
      ]
    },
    {
      "cell_type": "code",
      "metadata": {
        "id": "bCWMLpHVErCA"
      },
      "source": [
        "# Setup\n",
        "from __future__ import print_function\n",
        "import numpy as np\n",
        "import matplotlib.pyplot as plt\n",
        "import matplotlib.image as mpimg\n",
        "from time import time\n",
        "from skimage import io\n",
        "import numpy as np\n",
        "\n",
        "%matplotlib inline\n",
        "plt.rcParams['figure.figsize'] = (10.0, 8.0) # set default size of plots\n",
        "plt.rcParams['image.interpolation'] = 'nearest'\n",
        "plt.rcParams['image.cmap'] = 'gray'\n",
        "\n"
      ],
      "execution_count": null,
      "outputs": []
    },
    {
      "cell_type": "code",
      "metadata": {
        "id": "JAbpLKJbErCJ"
      },
      "source": [
        "image1_path = 'https://upload.wikimedia.org/wikipedia/en/7/7d/Lenna_%28test_image%29.png'\n",
        "### Your code/ Open image as grayscale\n",
        "\n",
        "\n",
        "### Your code/ Show image\n",
        "\n"
      ],
      "execution_count": null,
      "outputs": []
    },
    {
      "cell_type": "code",
      "metadata": {
        "id": "_50dlFJUF-lr"
      },
      "source": [
        "def conv_nested(image, kernel):\n",
        "    \"\"\"A naive implementation of convolution filter.\n",
        "    This is a naive implementation of convolution using 4 nested for-loops.\n",
        "    This function computes convolution of an image with a kernel and outputs\n",
        "    the result that has the same shape as the input image.\n",
        "    Args:\n",
        "        image: numpy array of shape (Hi, Wi).\n",
        "        kernel: numpy array of shape (Hk, Wk). Dimensions will be odd.\n",
        "    Returns:\n",
        "        out: numpy array of shape (Hi, Wi).\n",
        "    \"\"\"\n",
        "    Hi, Wi = image.shape\n",
        "    Hk, Wk = kernel.shape\n",
        "    out = np.zeros((Hi, Wi))\n",
        "\n",
        "    ### YOUR CODE HERE\n",
        "\n",
        "    ### END YOUR CODE\n",
        "\n",
        "    return out"
      ],
      "execution_count": null,
      "outputs": []
    },
    {
      "cell_type": "code",
      "metadata": {
        "id": "1MfKiHloErCL",
        "colab": {
          "base_uri": "https://localhost:8080/",
          "height": 682
        },
        "outputId": "13b654e1-3064-43e1-d392-79ee83e6cf4c"
      },
      "source": [
        "# Simple convolution kernel.\n",
        "kernel = np.array(\n",
        "[\n",
        "    [1,0,1],\n",
        "    [0,0,0],\n",
        "    [1,0,0]\n",
        "])\n",
        "\n",
        "# Create a test image using numpy array: 9*9. black matrix with a white square in the middle\n",
        "test_img = np.zeros((9, 9))\n",
        "test_img[3:6, 3:6] = 1\n",
        "\n",
        "# Run your conv_nested function on the test image\n",
        "test_output = conv_nested(test_img, kernel)\n",
        "\n",
        "# Build the expected output\n",
        "expected_output = np.zeros((9, 9))\n",
        "expected_output[2:7, 2:7] = 1\n",
        "expected_output[5:, 5:] = 0\n",
        "expected_output[4, 2:5] = 2\n",
        "expected_output[2:5, 4] = 2\n",
        "expected_output[4, 4] = 3\n",
        "\n",
        "# Your code/ Plot the test image\n",
        "plt.subplot(1,3,1)\n",
        "\n",
        "# Your code/ Plot your convolved image\n",
        "plt.subplot(1,3,2)\n",
        "\n",
        "# Plot the exepected output\n",
        "plt.subplot(1,3,3)\n",
        "plt.imshow(expected_output)\n",
        "plt.title('Exepected output')\n",
        "plt.axis('off')\n",
        "plt.show()\n",
        "\n",
        "# Test if the output matches expected output\n",
        "assert np.max(test_output - expected_output) < 1e-10, \"Your solution is not correct.\""
      ],
      "execution_count": null,
      "outputs": [
        {
          "output_type": "display_data",
          "data": {
            "text/plain": [
              "<Figure size 1000x800 with 3 Axes>"
            ],
            "image/png": "[encoded data removed]"
          },
          "metadata": {}
        }
      ]
    },
    {
      "cell_type": "markdown",
      "metadata": {
        "id": "jX7EUDPRErCM"
      },
      "source": [
        "Now test your `conv_nested` function on a real image."
      ]
    },
    {
      "cell_type": "code",
      "metadata": {
        "id": "FzPz552TErCN"
      },
      "source": [
        "# Simple convolution kernel.\n",
        "# Feel free to change the kernel to see different outputs.\n",
        "kernel = np.array(\n",
        "[\n",
        "    [1,0,-1],\n",
        "    [2,0,-2],\n",
        "    [1,0,-1]\n",
        "])\n",
        "\n",
        "out = conv_nested(img, kernel)\n",
        "\n",
        "# Your code/ Plot original image\n",
        "plt.subplot(2,2,1)\n",
        "\n",
        "\n",
        "# Your code/ Plot your convolved image\n",
        "plt.subplot(2,2,3)\n",
        "\n",
        "\n",
        "\n",
        "plt.show()"
      ],
      "execution_count": null,
      "outputs": []
    },
    {
      "cell_type": "code",
      "metadata": {
        "id": "Yyft_HpsVNC5"
      },
      "source": [
        "### Your code/ Apply a gaussian filter to the image and display it.\n"
      ],
      "execution_count": null,
      "outputs": []
    }
  ]
}