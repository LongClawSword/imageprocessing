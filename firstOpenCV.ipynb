{
 "cells": [
  {
   "cell_type": "code",
   "execution_count": 113,
   "id": "405115ed-2cf5-40c6-ada1-b5260537e694",
   "metadata": {},
   "outputs": [],
   "source": [
    "import cv2\n",
    "import numpy as np"
   ]
  },
  {
   "cell_type": "code",
   "execution_count": 114,
   "id": "624d89ec-d7f5-41c9-93f6-c4b48c0d874a",
   "metadata": {},
   "outputs": [],
   "source": [
    "img1 = cv2.imread(\"C:\\\\Users\\\\rasto\\\\Documents\\\\OpenCV\\\\img1.jpg\", 1) \n",
    "img2 = cv2.imread(\"C:\\\\Users\\\\rasto\\\\Documents\\\\OpenCV\\\\img2.jpg\", 1)\n",
    "#image location, number\n",
    "# number : 1 => colorful\n",
    "# number : 0 => grayscale\n",
    "# number : -1 => increases saturation of color "
   ]
  },
  {
   "cell_type": "code",
   "execution_count": 115,
   "id": "48d89777-21fc-4dfd-960a-d3d5616acd9d",
   "metadata": {},
   "outputs": [],
   "source": [
    "def showImg(img, img1):\n",
    "    cv2.imshow(\"Original\" , img)\n",
    "    cv2.imshow(\"Edited\" , img1)\n",
    "    cv2.waitKey(0)\n",
    "    cv2.destroyAllWindows()"
   ]
  },
  {
   "cell_type": "code",
   "execution_count": 116,
   "id": "9948b11f-bf53-45c5-a589-1eddb1aaaa58",
   "metadata": {},
   "outputs": [],
   "source": [
    "def showImg1(img, img1 , img3):\n",
    "    cv2.imshow(\"Original-1\" , img)\n",
    "    cv2.imshow(\"Original-2\" , img1)\n",
    "    cv2.imshow(\"Edited\" , img3)\n",
    "    cv2.waitKey(0)\n",
    "    cv2.destroyAllWindows()"
   ]
  },
  {
   "cell_type": "code",
   "execution_count": 117,
   "id": "d4b76730-1fd3-4019-a3d5-89678b548f5c",
   "metadata": {},
   "outputs": [],
   "source": [
    "img_resize = cv2.resize(img1, (1280,700)) #width, height"
   ]
  },
  {
   "cell_type": "code",
   "execution_count": 118,
   "id": "06c64dea-ee48-4ee1-9a75-60567b77d2f1",
   "metadata": {},
   "outputs": [],
   "source": [
    "img_flip = cv2.flip(img1, 1) \n",
    "# try with -1, 0"
   ]
  },
  {
   "cell_type": "code",
   "execution_count": 119,
   "id": "05e6134e-23bc-400b-9bed-b364c81494c1",
   "metadata": {},
   "outputs": [],
   "source": [
    "#Implementation of Line function\n",
    "def y(slope, y1, x1, x):\n",
    "    return int(y1 + slope*(x-x1))\n",
    "def color1(x, y1, z,thickness, color, img):\n",
    "    t = int(thickness/2)\n",
    "    for i in range(-t, t):\n",
    "        img[x][y1+i][z] = color\n",
    "    return img\n",
    "def line1(img, begin, end, color, thickness):\n",
    "    slope = (end[1] - begin[1])/(end[0] - begin[0])\n",
    "    for x in range(begin[0],end[0]):\n",
    "        y1 = y(slope, begin[1], begin[0], x)\n",
    "        img = color1(x, y1, 0, thickness, color[0], img) \n",
    "        img = color1(x, y1, 1, thickness, color[1], img) \n",
    "        img = color1(x, y1, 2, thickness, color[2], img) \n",
    "        # img[x][y1][0] = color[0]\n",
    "        # img[x][y1][1] = color[1]\n",
    "        # img[x][y1][2] = color[2]\n",
    "    return img"
   ]
  },
  {
   "cell_type": "code",
   "execution_count": 120,
   "id": "3d057928-bd9d-49c5-9cd8-ee6f3d0de86f",
   "metadata": {},
   "outputs": [],
   "source": [
    "#line accept 5 parameter (img,starting,ending,color (in BGR format),thickness)\n",
    "cv2.line(img2, (0,0), (200,200), (154, 92, 424), 8) \n",
    "#Check out the implementation of this function\n",
    "img_line = line1(img1, (0,0), (200,200), (255,255,255), 10)\n",
    "showImg1(img1,img2, img_line);"
   ]
  },
  {
   "cell_type": "code",
   "execution_count": 121,
   "id": "df03b130-b77b-49f2-8ef3-84ed3edabc43",
   "metadata": {},
   "outputs": [],
   "source": [
    "# circle - accept(img,center,radius,color,thickness(-ve is for filled circle))\n",
    "cv2.circle(img1, (447, 125), 63, (214, 255, 0), 5)\n",
    "showImg(img1,img2) "
   ]
  },
  {
   "cell_type": "code",
   "execution_count": 122,
   "id": "34f5067f-eff7-4968-bd98-5e5e42af6b8a",
   "metadata": {},
   "outputs": [],
   "source": [
    "def draw(event,x,y,flags,param):\n",
    "    if event == cv2.EVENT_LBUTTONDBLCLK:\n",
    "        cv2.circle(img,(x,y),100,(255,255,255),5)\n",
    "        print(str(x) + \" \" + str(y))\n",
    "    if event == cv2.EVENT_RBUTTONDBLCLK:\n",
    "        cv2.rectangle(img,(x,y),(x+100,y+75),(125,125,255),2)\n",
    "        print(str(x) + \" \" + str(y))\n",
    "cv2.namedWindow(winname = \"res\")    \n",
    "# Create a black image, a window and bind the function to window\n",
    "img = np.zeros((512,512,3), np.uint8)\n",
    "cv2.setMouseCallback(\"res\",draw)\n",
    "\n",
    "while True:\n",
    "    cv2.imshow(\"res\",img)\n",
    "    if cv2.waitKey(1) & 0xFF == 27:\n",
    "        break\n",
    "\n",
    "cv2.destroyAllWindows()\n",
    "#Create a fucntion which help to find cordinate of any pixel and its color\n",
    "\n"
   ]
  },
  {
   "cell_type": "code",
   "execution_count": 123,
   "id": "a8ec36ea-ad29-4015-9b8a-dd6ad8ff964d",
   "metadata": {
    "scrolled": true
   },
   "outputs": [
    {
     "name": "stdout",
     "output_type": "stream",
     "text": [
      "shape== (344, 612, 3)\n",
      "no.of pixels== 631584\n",
      "datatype== uint8\n",
      "Imagetype== <class 'numpy.ndarray'>\n"
     ]
    }
   ],
   "source": [
    "print(\"shape==\",img1.shape) \n",
    "print(\"no.of pixels==\",img1.size) \n",
    "print(\"datatype==\",img1.dtype)\n",
    "print(\"Imagetype==\",type(img1))"
   ]
  },
  {
   "cell_type": "code",
   "execution_count": 124,
   "id": "79dd181d-e767-4685-bed9-eefd9d587b0b",
   "metadata": {},
   "outputs": [],
   "source": [
    "#python has a color format of BGR therefore the colors we input anywhere are of the BGR format\n",
    "b,g,r = cv2.split(img1)"
   ]
  },
  {
   "cell_type": "code",
   "execution_count": 125,
   "id": "bf4a06d3-741f-4374-86c9-0ce680036b4f",
   "metadata": {},
   "outputs": [],
   "source": [
    "showImg(img1, b)\n",
    "showImg(img1, g)\n",
    "showImg(img1, r)\n",
    "showImg(b, img1[:,:,0]) #extracting blue channel directly. Think about it.\n",
    "showImg(g, img1[:,:,1]) \n",
    "showImg(r, img1[:,:,2]) "
   ]
  },
  {
   "cell_type": "code",
   "execution_count": 126,
   "id": "096c5e1e-db2d-4dde-9a7d-f5b61ca13ba5",
   "metadata": {},
   "outputs": [],
   "source": [
    "#merge the three images..try it in different order.\n",
    "#try its implementation\n",
    "mr1 = cv2.merge((b,g,r))\n",
    "showImg(img1, mr1)"
   ]
  },
  {
   "cell_type": "code",
   "execution_count": 127,
   "id": "400a155f-d87a-445c-b2e1-520d8ca69962",
   "metadata": {},
   "outputs": [],
   "source": [
    "#ROI....lets extract the face of the dog.\n",
    "# try using the draw function to find the coordinates and then substitute the values you find for x1,y1 and x2,y2\n",
    "y1 = 0;\n",
    "y2 = 1;\n",
    "x1 = 0;\n",
    "x2 = 1;\n",
    "roi = img1[y1:y2, x1:x2]\n",
    "showImg(img1, roi)"
   ]
  },
  {
   "cell_type": "code",
   "execution_count": 128,
   "id": "6f215d07-50f6-4395-938d-e9126e9b0bd7",
   "metadata": {},
   "outputs": [],
   "source": [
    "# it take parameters like(img,border_width_top,border_width_bottom,border_width_left,border_width_right,bordertype,val_brder)\n",
    "brdr = cv2.copyMakeBorder(img1,10,10,5,5,cv2.BORDER_CONSTANT,value = [255,0,125])\n",
    "showImg(img1, brdr)"
   ]
  },
  {
   "cell_type": "code",
   "execution_count": 129,
   "id": "3b78942e-f46d-41fc-ab2f-08137fcdb869",
   "metadata": {},
   "outputs": [],
   "source": [
    "# images of the same sizes can be blended only\n",
    "img1 = cv2.resize(img1, (400, 400))\n",
    "img2 = cv2.resize(img2, (400, 400))"
   ]
  },
  {
   "cell_type": "code",
   "execution_count": 130,
   "id": "c443bc21-11a1-4ff8-891c-763cb083a362",
   "metadata": {},
   "outputs": [],
   "source": [
    "# blending of images by simple add function\n",
    "result1 = cv2.add(img1, img2)\n",
    "showImg1(img1, img2, result1)"
   ]
  },
  {
   "cell_type": "code",
   "execution_count": 131,
   "id": "4fc190bd-da89-4f55-8ec4-3f1949c295cb",
   "metadata": {},
   "outputs": [],
   "source": [
    "# weighted blending of function\n",
    "result2 = cv2.addWeighted(img1,0.7,img2,0.3,0)\n",
    "showImg1(img1, img2, result2)"
   ]
  },
  {
   "cell_type": "code",
   "execution_count": 132,
   "id": "ab7891db-27b6-4baa-9f97-77be217332a7",
   "metadata": {},
   "outputs": [],
   "source": [
    "img3 = np.zeros((400,400))\n",
    "img3[100:300, 50:270] = 255\n",
    "img4 = np.zeros((400,400))\n",
    "img4[250:350, 230:350] = 255\n",
    "showImg(img3, img4)"
   ]
  },
  {
   "cell_type": "code",
   "execution_count": 133,
   "id": "9950fe1f-cc0d-4b5a-af79-46a923419ec1",
   "metadata": {},
   "outputs": [],
   "source": [
    "# img3   img4    bitAnd\n",
    "# 0      0         0\n",
    "# 0      1         0\n",
    "# 1      0         0 \n",
    "# 1      1         1\n",
    "bitAnd = cv2.bitwise_and(img3, img4)\n",
    "showImg1(img3, img4, bitAnd)"
   ]
  },
  {
   "cell_type": "code",
   "execution_count": 134,
   "id": "60e244bc-ed04-4ab6-a9bd-e710f785b505",
   "metadata": {},
   "outputs": [],
   "source": [
    "# img3   img4    bitAnd\n",
    "# 0      0         0\n",
    "# 0      1         1\n",
    "# 1      0         1 \n",
    "# 1      1         1\n",
    "bitOr = cv2.bitwise_or(img3, img4)\n",
    "showImg1(img3, img4, bitOr)"
   ]
  },
  {
   "cell_type": "code",
   "execution_count": 135,
   "id": "417f398a-e953-4c3d-b49d-f9c16a803c30",
   "metadata": {},
   "outputs": [],
   "source": [
    "# img3   img4    bitAnd\n",
    "# 0      0         0\n",
    "# 0      1         1\n",
    "# 1      0         1 \n",
    "# 1      1         0\n",
    "bitXor = cv2.bitwise_xor(img3, img4)\n",
    "showImg1(img3, img4, bitXor)"
   ]
  },
  {
   "cell_type": "code",
   "execution_count": 136,
   "id": "1b6194fb-d50a-41cf-9733-87715bb90de4",
   "metadata": {},
   "outputs": [],
   "source": [
    "bitNot1 = cv2.bitwise_not(img3)\n",
    "bitNot2 = cv2.bitwise_not(img4)\n",
    "showImg(img3, bitNot1)\n",
    "showImg(img4, bitNot2)"
   ]
  }
 ],
 "metadata": {
  "kernelspec": {
   "display_name": "Python 3 (ipykernel)",
   "language": "python",
   "name": "python3"
  },
  "language_info": {
   "codemirror_mode": {
    "name": "ipython",
    "version": 3
   },
   "file_extension": ".py",
   "mimetype": "text/x-python",
   "name": "python",
   "nbconvert_exporter": "python",
   "pygments_lexer": "ipython3",
   "version": "3.9.18"
  }
 },
 "nbformat": 4,
 "nbformat_minor": 5
}
